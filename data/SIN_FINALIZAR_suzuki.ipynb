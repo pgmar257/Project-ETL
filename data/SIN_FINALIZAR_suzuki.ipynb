{
 "cells": [
  {
   "cell_type": "markdown",
   "id": "a03cdf48-8d2a-4566-8101-5f33da65d571",
   "metadata": {},
   "source": [
    "## PROYECTO ETL"
   ]
  },
  {
   "cell_type": "markdown",
   "id": "0ec5cb74-a84b-422b-b165-9bedbebf63fe",
   "metadata": {},
   "source": [
    "#### SUZUKI MOTORCYCLES"
   ]
  },
  {
   "cell_type": "markdown",
   "id": "869cb124-47fb-464a-91c6-a0f9ecefcde4",
   "metadata": {},
   "source": [
    "https://moto.suzuki.es/motos"
   ]
  },
  {
   "cell_type": "code",
   "execution_count": 1,
   "id": "f2a67892-8f22-4820-9ea9-a28d7b5ce445",
   "metadata": {},
   "outputs": [],
   "source": [
    "from bs4 import BeautifulSoup\n",
    "import requests\n",
    "from selenium import webdriver\n",
    "import time\n",
    "from webdriver_manager.chrome import ChromeDriverManager\n",
    "from selenium.webdriver.chrome.options import Options\n",
    "from selenium.webdriver.common.by import By\n",
    "import warnings\n",
    "import pandas as pd\n",
    "from selenium.webdriver.support.ui import WebDriverWait   \n",
    "from selenium.webdriver.support import expected_conditions as EC  \n",
    "warnings.filterwarnings('ignore')\n",
    "options=Options()"
   ]
  },
  {
   "cell_type": "code",
   "execution_count": 2,
   "id": "9a240482-32b8-4ea0-8535-f7f65a709bc8",
   "metadata": {},
   "outputs": [],
   "source": [
    "options.add_argument('--start-maximized')\n",
    "options.add_experimental_option(\"excludeSwitches\", [\"enable-automation\"])\n",
    "options.add_experimental_option('useAutomationExtension', False)\n"
   ]
  },
  {
   "cell_type": "code",
   "execution_count": 3,
   "id": "eb15d966-8889-473d-b532-116ea825f257",
   "metadata": {},
   "outputs": [],
   "source": [
    "PATH = ChromeDriverManager().install()"
   ]
  },
  {
   "cell_type": "code",
   "execution_count": 4,
   "id": "cbd04126-abef-430d-8f84-1a61a217eaa2",
   "metadata": {},
   "outputs": [],
   "source": [
    "driver = webdriver.Chrome(PATH, options=options)"
   ]
  },
  {
   "cell_type": "code",
   "execution_count": 5,
   "id": "d3da9bd6-2c46-4f89-b378-47b5b4e2a44a",
   "metadata": {},
   "outputs": [],
   "source": [
    "url = 'https://moto.suzuki.es/motos'"
   ]
  },
  {
   "cell_type": "code",
   "execution_count": 6,
   "id": "cfa787e2-07c0-4aa6-9d8d-e1da1d02c0c8",
   "metadata": {},
   "outputs": [],
   "source": [
    "driver.get(url)"
   ]
  },
  {
   "cell_type": "code",
   "execution_count": 7,
   "id": "ccd09ccd-5e9a-4cde-b990-869314f7c41a",
   "metadata": {},
   "outputs": [],
   "source": [
    "# Accedo a las gamas\n",
    "gamas = driver.find_elements(By.XPATH, '//*[@id=\"submenuModelos\"]')\n",
    "gamas[0].click()\n",
    "time.sleep(2)"
   ]
  },
  {
   "cell_type": "code",
   "execution_count": 8,
   "id": "4f5ffd8e-f23e-4705-8712-772e2ac3969c",
   "metadata": {},
   "outputs": [],
   "source": [
    "gama_names = driver.find_elements(By.XPATH, '//*[@id=\"displayTypes\"]/div/div')"
   ]
  },
  {
   "cell_type": "code",
   "execution_count": 9,
   "id": "307272e8-df65-483d-a030-3fb133d6f0d6",
   "metadata": {},
   "outputs": [],
   "source": [
    "string = gama_names[0].text"
   ]
  },
  {
   "cell_type": "code",
   "execution_count": 10,
   "id": "223ff8a6-8035-47a8-8cde-fda20bdd1eab",
   "metadata": {},
   "outputs": [
    {
     "data": {
      "text/plain": [
       "['SCOOTER',\n",
       " 'CARRETERA',\n",
       " 'TRAIL SPORT TURISMO',\n",
       " 'DEPORTIVAS',\n",
       " 'MOTOCROSS | ENDURO',\n",
       " 'NOVEDADES']"
      ]
     },
     "execution_count": 10,
     "metadata": {},
     "output_type": "execute_result"
    }
   ],
   "source": [
    "gama_list = string.split('\\n')\n",
    "#gama_list"
   ]
  },
  {
   "cell_type": "code",
   "execution_count": 16,
   "id": "1ed9d9e3-2b9b-40f6-a0c3-236efe7ab498",
   "metadata": {},
   "outputs": [],
   "source": [
    "gama_list = string.split('\\n')"
   ]
  },
  {
   "cell_type": "code",
   "execution_count": 17,
   "id": "4f84762f-b138-4274-b694-a00dd74c78d0",
   "metadata": {},
   "outputs": [
    {
     "data": {
      "text/plain": [
       "['scooter',\n",
       " 'carretera',\n",
       " 'trail-sport-turismo',\n",
       " 'deportivas',\n",
       " 'motocross-|-enduro',\n",
       " 'novedades']"
      ]
     },
     "execution_count": 17,
     "metadata": {},
     "output_type": "execute_result"
    }
   ],
   "source": [
    "gama_list = [item.strip().lower().replace(\" \", \"-\").split(\"(\")[0].rstrip(\"-\") for item in gama_list]\n",
    "gama_list"
   ]
  },
  {
   "cell_type": "code",
   "execution_count": null,
   "id": "2a058166-9913-48cb-8504-d62241470637",
   "metadata": {},
   "outputs": [],
   "source": []
  },
  {
   "cell_type": "code",
   "execution_count": 13,
   "id": "44857cf8-90b6-469a-baa4-b131742af05d",
   "metadata": {},
   "outputs": [],
   "source": [
    "#elems = driver.find_elements(By.XPATH, \"//a[@href]\")"
   ]
  },
  {
   "cell_type": "code",
   "execution_count": 15,
   "id": "5294b7f8-1398-467c-aafd-f5827d178e16",
   "metadata": {},
   "outputs": [
    {
     "data": {
      "text/plain": [
       "['https://moto.suzuki.es/',\n",
       " 'https://moto.suzuki.es/motos',\n",
       " 'https://moto.suzuki.es/motos/scooter',\n",
       " 'https://moto.suzuki.es/motos/carretera',\n",
       " 'https://moto.suzuki.es/motos/trail-sport-turismo',\n",
       " 'https://moto.suzuki.es/motos/deportivas',\n",
       " 'https://moto.suzuki.es/motos/motocross-enduro',\n",
       " 'https://moto.suzuki.es/motos/novedades',\n",
       " 'https://moto.suzuki.es/accesorios',\n",
       " 'https://moto.suzuki.es/actualidad',\n",
       " 'https://moto.suzuki.es/concesionarios',\n",
       " 'https://moto.suzuki.es/promociones',\n",
       " 'https://moto.suzuki.es/manualpropietario',\n",
       " 'https://moto.suzuki.es/portal-tecnico',\n",
       " 'https://moto.suzuki.es/calidad',\n",
       " 'https://moto.suzuki.es/sala-de-prensa',\n",
       " 'https://www.globalsuzuki.com/',\n",
       " 'https://moto.suzuki.es/campana-seguridad',\n",
       " 'https://moto.suzuki.es/contacto',\n",
       " 'https://twitter.com/SuzukiMotoES',\n",
       " 'https://www.facebook.com/SuzukiMotoES',\n",
       " 'https://instagram.com/suzukimotoes',\n",
       " 'https://www.youtube.com/user/SuzukiMotoEs',\n",
       " 'https://moto.suzuki.es/aviso-legal',\n",
       " 'https://moto.suzuki.es/solicita-informacion',\n",
       " 'https://moto.suzuki.es/concesionarios',\n",
       " 'https://twitter.com/SuzukiMotoES',\n",
       " 'https://www.facebook.com/SuzukiMotoES',\n",
       " 'https://instagram.com/suzukimotoes',\n",
       " 'https://www.youtube.com/user/SuzukiMotoEs',\n",
       " 'https://moto.suzuki.es/',\n",
       " 'https://moto.suzuki.es/motos/scooter',\n",
       " 'https://moto.suzuki.es/motos/carretera',\n",
       " 'https://moto.suzuki.es/motos/trail-sport-turismo',\n",
       " 'https://moto.suzuki.es/motos/deportivas',\n",
       " 'https://moto.suzuki.es/motos/motocross-enduro',\n",
       " 'https://moto.suzuki.es/motos/novedades',\n",
       " 'https://moto.suzuki.es/aviso-legal',\n",
       " 'https://moto.suzuki.es/manualpropietario',\n",
       " 'https://moto.suzuki.es/portal-tecnico',\n",
       " 'https://moto.suzuki.es/',\n",
       " 'https://moto.suzuki.es/aviso-legal',\n",
       " 'https://moto.suzuki.es/calidad',\n",
       " 'https://moto.suzuki.es/sala-de-prensa',\n",
       " 'https://www.globalsuzuki.com/',\n",
       " 'https://moto.suzuki.es/campana-seguridad',\n",
       " 'https://moto.suzuki.es/contacto',\n",
       " 'https://twitter.com/SuzukiMotoES',\n",
       " 'https://www.facebook.com/SuzukiMotoES',\n",
       " 'https://instagram.com/suzukimotoes',\n",
       " 'https://www.youtube.com/user/SuzukiMotoEs']"
      ]
     },
     "execution_count": 15,
     "metadata": {},
     "output_type": "execute_result"
    }
   ],
   "source": [
    "#links = [elem.get_attribute(\"href\") for elem in elems]\n",
    "#links"
   ]
  },
  {
   "cell_type": "code",
   "execution_count": null,
   "id": "7d62b57c-8dfb-4e53-92d5-78cb078e9e8a",
   "metadata": {},
   "outputs": [],
   "source": []
  }
 ],
 "metadata": {
  "kernelspec": {
   "display_name": "Python 3 (ipykernel)",
   "language": "python",
   "name": "python3"
  },
  "language_info": {
   "codemirror_mode": {
    "name": "ipython",
    "version": 3
   },
   "file_extension": ".py",
   "mimetype": "text/x-python",
   "name": "python",
   "nbconvert_exporter": "python",
   "pygments_lexer": "ipython3",
   "version": "3.10.8"
  }
 },
 "nbformat": 4,
 "nbformat_minor": 5
}
