{
 "cells": [
  {
   "cell_type": "markdown",
   "id": "d3d89500-e07c-450d-9d7a-e6a07c1997fa",
   "metadata": {},
   "source": [
    "## PROYECTO ETL"
   ]
  },
  {
   "cell_type": "markdown",
   "id": "616895bf-5da0-48ab-9efb-b22e554e1c49",
   "metadata": {},
   "source": [
    "#### HONDA MOTORCYCLES"
   ]
  },
  {
   "cell_type": "markdown",
   "id": "c4d1d31f-4aec-4f1f-99be-f6f3a8e38cb6",
   "metadata": {},
   "source": [
    "https://www.honda.es/motorcycles.html"
   ]
  },
  {
   "cell_type": "code",
   "execution_count": 22,
   "id": "6fe7b187-80d9-4829-adad-ec25be67c218",
   "metadata": {},
   "outputs": [],
   "source": [
    "from bs4 import BeautifulSoup\n",
    "import requests\n",
    "from selenium import webdriver\n",
    "import time\n",
    "from webdriver_manager.chrome import ChromeDriverManager\n",
    "from selenium.webdriver.chrome.options import Options\n",
    "from selenium.webdriver.common.by import By\n",
    "import warnings\n",
    "import pandas as pd\n",
    "from selenium.webdriver.support.ui import WebDriverWait   \n",
    "from selenium.webdriver.support import expected_conditions as EC  \n",
    "warnings.filterwarnings('ignore')\n",
    "options=Options()"
   ]
  },
  {
   "cell_type": "code",
   "execution_count": 23,
   "id": "994485a9-9e79-4901-a080-45c86940e411",
   "metadata": {},
   "outputs": [],
   "source": [
    "options.add_argument('--start-maximized')\n",
    "options.add_experimental_option(\"excludeSwitches\", [\"enable-automation\"])\n",
    "options.add_experimental_option('useAutomationExtension', False)\n"
   ]
  },
  {
   "cell_type": "code",
   "execution_count": 24,
   "id": "07d9fed2-5617-43b8-b2a4-dd8e0119baf7",
   "metadata": {},
   "outputs": [],
   "source": [
    "PATH = ChromeDriverManager().install()"
   ]
  },
  {
   "cell_type": "code",
   "execution_count": 25,
   "id": "6e98cf11-310c-4edb-b232-5efa6de64bcc",
   "metadata": {},
   "outputs": [],
   "source": [
    "driver = webdriver.Chrome(PATH, options=options)"
   ]
  },
  {
   "cell_type": "code",
   "execution_count": 26,
   "id": "9ad3a9a8-f1a9-4e54-9c34-0e56b07c5295",
   "metadata": {},
   "outputs": [],
   "source": [
    "url = 'https://www.honda.es/motorcycles.html'"
   ]
  },
  {
   "cell_type": "code",
   "execution_count": 27,
   "id": "58734456-c5e3-46c8-9e97-e9deb91aa210",
   "metadata": {},
   "outputs": [],
   "source": [
    "driver.get(url)"
   ]
  },
  {
   "cell_type": "code",
   "execution_count": 28,
   "id": "aea99366-1896-4264-9db8-5a19eac35215",
   "metadata": {},
   "outputs": [],
   "source": [
    "# Acepto las cookies\n",
    "cookies = driver.find_element(By.XPATH, '//*[@id=\"onetrust-accept-btn-handler\"]')\n",
    "cookies.click()\n",
    "time.sleep(0.5)"
   ]
  },
  {
   "cell_type": "code",
   "execution_count": 29,
   "id": "44f80ea2-2fc9-4bcd-8e7e-fdf48c064a60",
   "metadata": {},
   "outputs": [],
   "source": [
    "# Accedo a las gamas de motos\n",
    "gamas = driver.find_elements(By.XPATH, '//*[@id=\"outer\"]/div[1]/header/div[2]/nav/ul/li[1]/a')\n",
    "gamas[0].click()\n",
    "time.sleep(2)"
   ]
  },
  {
   "cell_type": "code",
   "execution_count": 30,
   "id": "269679a0-3ac8-4042-91a6-5a40650e0322",
   "metadata": {},
   "outputs": [],
   "source": [
    "gama_names = driver.find_elements(By.XPATH, '//*[@id=\"page\"]/section/div[2]/div[2]')"
   ]
  },
  {
   "cell_type": "code",
   "execution_count": 31,
   "id": "0b3d901f-1a84-4721-be80-25db656c31fd",
   "metadata": {},
   "outputs": [],
   "source": [
    "string = gama_names[0].text"
   ]
  },
  {
   "cell_type": "code",
   "execution_count": 32,
   "id": "ee37d669-1006-4b56-8020-916f313a232a",
   "metadata": {},
   "outputs": [],
   "source": [
    "gama_list = string.split('\\n')"
   ]
  },
  {
   "cell_type": "code",
   "execution_count": 33,
   "id": "26a61f92-f164-467d-9fdc-6224f524619d",
   "metadata": {},
   "outputs": [],
   "source": [
    "gama_list = [item.strip().lower().replace(\" \", \"-\").split(\"(\")[0].rstrip(\"-\") for item in gama_list]\n",
    "#gama_list"
   ]
  },
  {
   "cell_type": "code",
   "execution_count": 34,
   "id": "5d440698-efaf-497e-9e77-7e542a229468",
   "metadata": {},
   "outputs": [],
   "source": [
    "elems = driver.find_elements(By.XPATH, \"//a[@href]\")"
   ]
  },
  {
   "cell_type": "code",
   "execution_count": 35,
   "id": "dcb9b445-149c-49a6-83fd-ed138abe89b2",
   "metadata": {},
   "outputs": [],
   "source": [
    "links = []\n",
    "for elem in elems:\n",
    "    links.append(elem.get_attribute(\"href\"))"
   ]
  },
  {
   "cell_type": "code",
   "execution_count": 36,
   "id": "c6d1f9b1-48dd-4a5b-885d-bcbe0674a491",
   "metadata": {},
   "outputs": [],
   "source": [
    "#Aquí me da todos los links de todas las gamas y los modelos que componen dichas gamas\n",
    "links = [elem.get_attribute(\"href\") for elem in elems]"
   ]
  },
  {
   "cell_type": "code",
   "execution_count": 37,
   "id": "2cb10d65-b3ea-4c00-929d-074acfa07697",
   "metadata": {},
   "outputs": [],
   "source": [
    "# Si el link contiene 'specifications-and-price' guardarlo en una lista y así filtro segun lo que estoy buscando\n",
    "links_specifications = []\n",
    "for e in links:\n",
    "    if 'specifications' in e:\n",
    "        links_specifications.append(e)"
   ]
  },
  {
   "cell_type": "code",
   "execution_count": 38,
   "id": "11b88307-36c9-48ef-8857-665096531ace",
   "metadata": {},
   "outputs": [],
   "source": [
    "#Bucle list comprehension\n",
    "links_especifications = [e for e in links if 'specifications' in e]"
   ]
  },
  {
   "cell_type": "code",
   "execution_count": 39,
   "id": "990aed4d-aee1-47f3-a365-a5f2f4e905e6",
   "metadata": {},
   "outputs": [],
   "source": [
    "final_links = [e for e in links_specifications if not 'off-road' in e]"
   ]
  },
  {
   "cell_type": "code",
   "execution_count": 40,
   "id": "2978eb51-3462-432b-9f35-4943ad2daf2b",
   "metadata": {},
   "outputs": [],
   "source": [
    "driver.get(url)"
   ]
  },
  {
   "cell_type": "code",
   "execution_count": 41,
   "id": "4ae6e087-3001-4a93-887e-85568458de97",
   "metadata": {},
   "outputs": [],
   "source": [
    "columns_filtering = ['Tipo de motor',\n",
    " 'Sistema frenado Trasero',\n",
    " 'Diámetro x carrera (mm)',\n",
    " 'Arranque',\n",
    " 'Capacidad de combustible',\n",
    " 'Peso en orden de marcha (kg)',\n",
    " 'Panel de instrumentos',\n",
    " 'Embrague',\n",
    " 'Suspensión trasera',\n",
    " 'Rueda trasera',\n",
    " 'Sistema alimentación combustible',\n",
    " 'Suspensión delantera',\n",
    " 'Rueda delantera',\n",
    " 'Transmisión final',\n",
    " 'Potencia máxima',\n",
    " 'Cilindrada (cm3)',\n",
    " 'Relación de compresión',\n",
    " 'Faro delantero',\n",
    " 'Sistema frenado delantero',\n",
    " 'Capacidad de la batería (VAh)',\n",
    " 'Altura del asiento (mm)']"
   ]
  },
  {
   "cell_type": "code",
   "execution_count": 42,
   "id": "817e6e65-cf5e-43a1-8a78-ebbab93843c5",
   "metadata": {},
   "outputs": [],
   "source": [
    "dfs = []\n",
    "for link in final_links:\n",
    "    gama = link.split('/')[5]\n",
    "    name = link.split('/')[6]\n",
    "    driver.get(link)\n",
    "    try:\n",
    "        price = driver.find_elements(By.XPATH, '//*[@id=\"page\"]/div[1]/div[2]/div[1]/div/div/div[1]/div[2]/dl[1]/dd/span')[0].text\n",
    "    except:\n",
    "        price = driver.find_elements(By.XPATH, '//*[@id=\"page\"]/div[1]/div[2]/div[2]/div/div/div[1]/div[2]/dl[1]/dd')[0].text\n",
    "    \n",
    "    r = requests.get(link)\n",
    "    soup = BeautifulSoup(r.text, 'lxml')\n",
    "    title = soup.find_all('td', class_=\"title\")\n",
    "    titles_clean = [e.text for e in title]\n",
    "    results = soup.find_all('td', class_=\"result\")\n",
    "    results_clean = [e.text for e in results]\n",
    "    list_of_tuples = list(zip(titles_clean, results_clean))\n",
    "    df = pd.DataFrame.from_records(list_of_tuples)\n",
    "    df_transpose = df.T\n",
    "    new_header = df_transpose.iloc[0]\n",
    "    df_final = df_transpose[1:] \n",
    "    df_final.columns = new_header\n",
    "    df_final[columns_filtering]\n",
    "    df_final[\"Gama\"] = gama\n",
    "    df_final[\"Nombre\"] = name\n",
    "    df_final[\"Precio\"] = price\n",
    "    dfs.append(df_final)\n",
    "    \n"
   ]
  },
  {
   "cell_type": "code",
   "execution_count": 44,
   "id": "caae453e-96de-499e-8635-073234215cb6",
   "metadata": {},
   "outputs": [],
   "source": [
    "df_motos = pd.concat(dfs)"
   ]
  },
  {
   "cell_type": "code",
   "execution_count": 45,
   "id": "4fb262cc-b182-411c-986a-a16c3db0ba81",
   "metadata": {},
   "outputs": [
    {
     "data": {
      "text/html": [
       "<div>\n",
       "<style scoped>\n",
       "    .dataframe tbody tr th:only-of-type {\n",
       "        vertical-align: middle;\n",
       "    }\n",
       "\n",
       "    .dataframe tbody tr th {\n",
       "        vertical-align: top;\n",
       "    }\n",
       "\n",
       "    .dataframe thead th {\n",
       "        text-align: right;\n",
       "    }\n",
       "</style>\n",
       "<table border=\"1\" class=\"dataframe\">\n",
       "  <thead>\n",
       "    <tr style=\"text-align: right;\">\n",
       "      <th></th>\n",
       "      <th>Diámetro x carrera (mm)</th>\n",
       "      <th>Sistema alimentación combustible</th>\n",
       "      <th>Relación de compresión</th>\n",
       "      <th>Cilindrada (cm3)</th>\n",
       "      <th>Tipo de motor</th>\n",
       "      <th>Sistema de encendido</th>\n",
       "      <th>Potencia máxima</th>\n",
       "      <th>Par máximo</th>\n",
       "      <th>Arranque</th>\n",
       "      <th>Diámetro mariposa</th>\n",
       "      <th>...</th>\n",
       "      <th>Nombre</th>\n",
       "      <th>Precio</th>\n",
       "      <th>Sistema ABS</th>\n",
       "      <th>Señal de parada de emergencia</th>\n",
       "      <th>Quick Shifter</th>\n",
       "      <th>Luz diurna</th>\n",
       "      <th>Conectividad</th>\n",
       "      <th>Cancelación automática de intermitentes</th>\n",
       "      <th>Control de crucero</th>\n",
       "      <th>Luz de curva</th>\n",
       "    </tr>\n",
       "  </thead>\n",
       "  <tbody>\n",
       "    <tr>\n",
       "      <th>1</th>\n",
       "      <td>81mm x 48,5mm</td>\n",
       "      <td>Sistema de inyección programada de gasolina (P...</td>\n",
       "      <td>13:1</td>\n",
       "      <td>1000cc</td>\n",
       "      <td>4 tiempos. 4 cilindros en línea, DOHC, refrige...</td>\n",
       "      <td>Digital transistorizado con control computeriz...</td>\n",
       "      <td>160kW (217CV)</td>\n",
       "      <td>112Nm/12.500rpm</td>\n",
       "      <td>Eléctrico</td>\n",
       "      <td>52mm</td>\n",
       "      <td>...</td>\n",
       "      <td>cbr1000rr-r-fireblade-30th-anniversary</td>\n",
       "      <td>30.600,00€*</td>\n",
       "      <td>NaN</td>\n",
       "      <td>NaN</td>\n",
       "      <td>NaN</td>\n",
       "      <td>NaN</td>\n",
       "      <td>NaN</td>\n",
       "      <td>NaN</td>\n",
       "      <td>NaN</td>\n",
       "      <td>NaN</td>\n",
       "    </tr>\n",
       "    <tr>\n",
       "      <th>1</th>\n",
       "      <td>81mm x 48,5mm</td>\n",
       "      <td>Sistema de inyección programada de gasolina (P...</td>\n",
       "      <td>13,4:1</td>\n",
       "      <td>1.000cc</td>\n",
       "      <td>4 tiempos. 4 cilindros en línea, DOHC, 16 válv...</td>\n",
       "      <td>Digital transistorizado con control computeriz...</td>\n",
       "      <td>160kW (217CV)</td>\n",
       "      <td>NaN</td>\n",
       "      <td>Eléctrico</td>\n",
       "      <td>52mm</td>\n",
       "      <td>...</td>\n",
       "      <td>cbr1000rr-r-fireblade-sp</td>\n",
       "      <td>30.100,00€*</td>\n",
       "      <td>2 canales con IMU</td>\n",
       "      <td>NaN</td>\n",
       "      <td>NaN</td>\n",
       "      <td>NaN</td>\n",
       "      <td>NaN</td>\n",
       "      <td>NaN</td>\n",
       "      <td>NaN</td>\n",
       "      <td>NaN</td>\n",
       "    </tr>\n",
       "    <tr>\n",
       "      <th>1</th>\n",
       "      <td>81mm x 48,5mm</td>\n",
       "      <td>Sistema de inyección programada de gasolina (P...</td>\n",
       "      <td>13,4:1</td>\n",
       "      <td>1000cc</td>\n",
       "      <td>4 tiempos. 4 cilindros en línea, DOHC, 16 válv...</td>\n",
       "      <td>Digital transistorizado con control computeriz...</td>\n",
       "      <td>160kW (217CV)</td>\n",
       "      <td>NaN</td>\n",
       "      <td>Eléctrico</td>\n",
       "      <td>52mm</td>\n",
       "      <td>...</td>\n",
       "      <td>cbr1000rr-r-fireblade</td>\n",
       "      <td>25.450,00€*</td>\n",
       "      <td>2 canales con IMU</td>\n",
       "      <td>NaN</td>\n",
       "      <td>NaN</td>\n",
       "      <td>NaN</td>\n",
       "      <td>NaN</td>\n",
       "      <td>NaN</td>\n",
       "      <td>NaN</td>\n",
       "      <td>NaN</td>\n",
       "    </tr>\n",
       "    <tr>\n",
       "      <th>1</th>\n",
       "      <td>67 x 46mm</td>\n",
       "      <td>Sistema de inyección programada de gasolina (P...</td>\n",
       "      <td>11,6 : 1</td>\n",
       "      <td>649cc</td>\n",
       "      <td>4 tiempos. 4 cilindros en línea, DOHC, 16 válv...</td>\n",
       "      <td>Totalmente transistorizado</td>\n",
       "      <td>70kW  (95CV) @12.000rpm (95/1/EC)</td>\n",
       "      <td>63Nm @9.500rpm (95/1/EC)</td>\n",
       "      <td>Eléctrico</td>\n",
       "      <td>32mm</td>\n",
       "      <td>...</td>\n",
       "      <td>cbr650r</td>\n",
       "      <td>9.700,00€*</td>\n",
       "      <td>Sistema de 2 canales</td>\n",
       "      <td>NaN</td>\n",
       "      <td>NaN</td>\n",
       "      <td>NaN</td>\n",
       "      <td>NaN</td>\n",
       "      <td>NaN</td>\n",
       "      <td>NaN</td>\n",
       "      <td>NaN</td>\n",
       "    </tr>\n",
       "    <tr>\n",
       "      <th>1</th>\n",
       "      <td>67 x 66,8mm</td>\n",
       "      <td>Sistema de inyección programada de gasolina (P...</td>\n",
       "      <td>10,7 : 1</td>\n",
       "      <td>471cc</td>\n",
       "      <td>4 tiempos, bicilíndrico paralelo, DOHC, 8 válv...</td>\n",
       "      <td>NaN</td>\n",
       "      <td>35kW (47CV) @8.600 rpm (95/1/EC)</td>\n",
       "      <td>43Nm @6.500rpm (95/1/EC)</td>\n",
       "      <td>Eléctrico</td>\n",
       "      <td>34mm</td>\n",
       "      <td>...</td>\n",
       "      <td>cbr500r</td>\n",
       "      <td>7.250,00€*</td>\n",
       "      <td>De 2 canales</td>\n",
       "      <td>Sí</td>\n",
       "      <td>NaN</td>\n",
       "      <td>NaN</td>\n",
       "      <td>NaN</td>\n",
       "      <td>NaN</td>\n",
       "      <td>NaN</td>\n",
       "      <td>NaN</td>\n",
       "    </tr>\n",
       "  </tbody>\n",
       "</table>\n",
       "<p>5 rows × 55 columns</p>\n",
       "</div>"
      ],
      "text/plain": [
       "0 Diámetro x carrera (mm)                   Sistema alimentación combustible  \\\n",
       "1           81mm x 48,5mm  Sistema de inyección programada de gasolina (P...   \n",
       "1           81mm x 48,5mm  Sistema de inyección programada de gasolina (P...   \n",
       "1           81mm x 48,5mm  Sistema de inyección programada de gasolina (P...   \n",
       "1               67 x 46mm  Sistema de inyección programada de gasolina (P...   \n",
       "1             67 x 66,8mm  Sistema de inyección programada de gasolina (P...   \n",
       "\n",
       "0 Relación de compresión Cilindrada (cm3)  \\\n",
       "1                   13:1           1000cc   \n",
       "1                 13,4:1          1.000cc   \n",
       "1                 13,4:1           1000cc   \n",
       "1               11,6 : 1            649cc   \n",
       "1               10,7 : 1            471cc   \n",
       "\n",
       "0                                      Tipo de motor  \\\n",
       "1  4 tiempos. 4 cilindros en línea, DOHC, refrige...   \n",
       "1  4 tiempos. 4 cilindros en línea, DOHC, 16 válv...   \n",
       "1  4 tiempos. 4 cilindros en línea, DOHC, 16 válv...   \n",
       "1  4 tiempos. 4 cilindros en línea, DOHC, 16 válv...   \n",
       "1  4 tiempos, bicilíndrico paralelo, DOHC, 8 válv...   \n",
       "\n",
       "0                               Sistema de encendido  \\\n",
       "1  Digital transistorizado con control computeriz...   \n",
       "1  Digital transistorizado con control computeriz...   \n",
       "1  Digital transistorizado con control computeriz...   \n",
       "1                         Totalmente transistorizado   \n",
       "1                                                NaN   \n",
       "\n",
       "0                    Potencia máxima                Par máximo   Arranque  \\\n",
       "1                      160kW (217CV)           112Nm/12.500rpm  Eléctrico   \n",
       "1                      160kW (217CV)                       NaN  Eléctrico   \n",
       "1                      160kW (217CV)                       NaN  Eléctrico   \n",
       "1  70kW  (95CV) @12.000rpm (95/1/EC)  63Nm @9.500rpm (95/1/EC)  Eléctrico   \n",
       "1   35kW (47CV) @8.600 rpm (95/1/EC)  43Nm @6.500rpm (95/1/EC)  Eléctrico   \n",
       "\n",
       "0 Diámetro mariposa  ...                                  Nombre       Precio  \\\n",
       "1              52mm  ...  cbr1000rr-r-fireblade-30th-anniversary  30.600,00€*   \n",
       "1              52mm  ...                cbr1000rr-r-fireblade-sp  30.100,00€*   \n",
       "1              52mm  ...                   cbr1000rr-r-fireblade  25.450,00€*   \n",
       "1              32mm  ...                                 cbr650r   9.700,00€*   \n",
       "1              34mm  ...                                 cbr500r   7.250,00€*   \n",
       "\n",
       "0           Sistema ABS Señal de parada de emergencia Quick Shifter  \\\n",
       "1                   NaN                           NaN           NaN   \n",
       "1     2 canales con IMU                           NaN           NaN   \n",
       "1     2 canales con IMU                           NaN           NaN   \n",
       "1  Sistema de 2 canales                           NaN           NaN   \n",
       "1          De 2 canales                            Sí           NaN   \n",
       "\n",
       "0 Luz diurna Conectividad Cancelación automática de intermitentes  \\\n",
       "1        NaN          NaN                                     NaN   \n",
       "1        NaN          NaN                                     NaN   \n",
       "1        NaN          NaN                                     NaN   \n",
       "1        NaN          NaN                                     NaN   \n",
       "1        NaN          NaN                                     NaN   \n",
       "\n",
       "0 Control de crucero Luz de curva  \n",
       "1                NaN          NaN  \n",
       "1                NaN          NaN  \n",
       "1                NaN          NaN  \n",
       "1                NaN          NaN  \n",
       "1                NaN          NaN  \n",
       "\n",
       "[5 rows x 55 columns]"
      ]
     },
     "execution_count": 45,
     "metadata": {},
     "output_type": "execute_result"
    }
   ],
   "source": [
    "df_motos.head()"
   ]
  },
  {
   "cell_type": "code",
   "execution_count": null,
   "id": "31ecc68c-97a3-4b54-968f-fb12eeba04a1",
   "metadata": {},
   "outputs": [],
   "source": [
    "#df_motos.to_csv('honda.csv', header=True, index=False)"
   ]
  },
  {
   "cell_type": "code",
   "execution_count": null,
   "id": "4e3fe950-c88b-44fd-b48c-7df8f392f190",
   "metadata": {},
   "outputs": [],
   "source": []
  }
 ],
 "metadata": {
  "kernelspec": {
   "display_name": "Python 3 (ipykernel)",
   "language": "python",
   "name": "python3"
  },
  "language_info": {
   "codemirror_mode": {
    "name": "ipython",
    "version": 3
   },
   "file_extension": ".py",
   "mimetype": "text/x-python",
   "name": "python",
   "nbconvert_exporter": "python",
   "pygments_lexer": "ipython3",
   "version": "3.10.8"
  }
 },
 "nbformat": 4,
 "nbformat_minor": 5
}
